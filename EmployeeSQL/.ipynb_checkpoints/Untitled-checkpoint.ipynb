{
 "cells": [
  {
   "cell_type": "code",
   "execution_count": null,
   "id": "6f4c30cf",
   "metadata": {},
   "outputs": [],
   "source": [
    "employees\n",
    "-\n",
    "emp_no PK int FK >- salaries.emp_no\n",
    "emp_title string FK >- titles.title\n",
    "birth_date float\n",
    "first_name string\n",
    "last_name string\n",
    "sex string\n",
    "hire_date float\n",
    "\n",
    "departments\n",
    "-\n",
    "dept_no string\n",
    "dept_name string\n",
    "\n",
    "titles\n",
    "-\n",
    "title_id string\n",
    "title string\n",
    "\n",
    "salaries\n",
    "-\n",
    "emp_no int\n",
    "salary money\n",
    "\n",
    "dept_manager\n",
    "-\n",
    "dept_no string FK >- departments.dept_no\n",
    "emp_no int FK >- employees.emp_no\n",
    "\n",
    "dept_emp\n",
    "-\n",
    "dept_no string FK >- departments.dept_no\n",
    "emp_no int FK >- employees.emp_no"
   ]
  }
 ],
 "metadata": {
  "kernelspec": {
   "display_name": "Python [conda env:root] *",
   "language": "python",
   "name": "conda-root-py"
  },
  "language_info": {
   "codemirror_mode": {
    "name": "ipython",
    "version": 3
   },
   "file_extension": ".py",
   "mimetype": "text/x-python",
   "name": "python",
   "nbconvert_exporter": "python",
   "pygments_lexer": "ipython3",
   "version": "3.9.13"
  }
 },
 "nbformat": 4,
 "nbformat_minor": 5
}
